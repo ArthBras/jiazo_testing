{
 "cells": [
  {
   "cell_type": "markdown",
   "metadata": {},
   "source": [
    "### Quizz"
   ]
  },
  {
   "cell_type": "code",
   "execution_count": 1,
   "metadata": {},
   "outputs": [
    {
     "name": "stdout",
     "output_type": "stream",
     "text": [
      "3 questions primordiales en 3 vies :\n",
      "Quelle est la couleur du cheval blanc d'Henry IV?\n",
      "Votre réponse est : rouge\n",
      "NUUUUUUUUUUUUUl\n",
      "Il vous reste 2 vies.\n",
      "Votre réponse est : blanc\n",
      "GGWP\n",
      "Il vous reste 2 vies.\n",
      "Qu'est-ce que la mère Michelle a perdu?\n",
      "Votre réponse est : son chat\n",
      "GGWP\n",
      "Il vous reste 2 vies.\n",
      "Qu'est ce qu'il a dans sa vilaine petite poche?\n",
      "Votre réponse est : mon précieux\n",
      "GGWP\n",
      "Il vous reste 2 vies.\n",
      "Félicitations !\n",
      "Vous avez terminé le quizz avec 2 vie(s).\n"
     ]
    }
   ],
   "source": [
    "def poser_question(question, reponse_correcte, vies):\n",
    "    print(question)\n",
    "    reponse = input(question).strip().lower()\n",
    "    while reponse != reponse_correcte:\n",
    "        vies -= 1\n",
    "        print(f\"Votre réponse est : {reponse}\")\n",
    "        print(\"NUUUUUUUUUUUUUl\")\n",
    "        print(f\"Il vous reste {vies} vies.\")\n",
    "        if vies == 0:\n",
    "            print(\"The end, Terminus, Game Over\")\n",
    "            return 0\n",
    "        reponse = input(question).strip().lower()\n",
    "    print(f\"Votre réponse est : {reponse}\")\n",
    "    print(\"GGWP\")\n",
    "    print(f\"Il vous reste {vies} vies.\")\n",
    "    return vies\n",
    "\n",
    "def lancer_quiz(questions):\n",
    "    vies = 3\n",
    "    print(f\"{len(questions)} questions primordiales en {vies} vies :\")\n",
    "\n",
    "    for question, reponse_correcte in questions:\n",
    "        vies = poser_question(question, reponse_correcte, vies)\n",
    "        if vies == 0:\n",
    "            exit()\n",
    "\n",
    "    print(\"Félicitations !\")\n",
    "    print(f\"Vous avez terminé le quizz avec {vies} vie(s).\")\n",
    "\n",
    "# Liste des questions et réponses\n",
    "questions = [\n",
    "    (\"Quelle est la couleur du cheval blanc d'Henry IV?\", \"blanc\"),\n",
    "    (\"Qu'est-ce que la mère Michelle a perdu?\", \"son chat\"),\n",
    "    (\"Qu'est ce qu'il a dans sa vilaine petite poche?\", \"mon précieux\")\n",
    "]\n",
    "\n",
    "# Lancer le quiz\n",
    "lancer_quiz(questions)"
   ]
  }
 ],
 "metadata": {
  "kernelspec": {
   "display_name": "base",
   "language": "python",
   "name": "python3"
  },
  "language_info": {
   "codemirror_mode": {
    "name": "ipython",
    "version": 3
   },
   "file_extension": ".py",
   "mimetype": "text/x-python",
   "name": "python",
   "nbconvert_exporter": "python",
   "pygments_lexer": "ipython3",
   "version": "3.12.4"
  }
 },
 "nbformat": 4,
 "nbformat_minor": 2
}
