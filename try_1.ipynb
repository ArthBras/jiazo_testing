{
 "cells": [
  {
   "cell_type": "code",
   "execution_count": null,
   "metadata": {},
   "outputs": [],
   "source": [
    "def Columbus():\n",
    "    try:\n",
    "        #Définition des inputs\n",
    "        placement=float(input(\"Cb voualez vous placer?\"))\n",
    "        print(\"Vous désirez placer {:.2f} €\".format(placement))\n",
    "        temps=int(input(\"Sur cb d'année?\"))\n",
    "        print(\"Votre placement de {:.2f} € s'étalera sur {} ans\".format(placement,temps))\n",
    "        taux_intérêt=float(input(\"A quel taux? Par exemple, pour 10% entrez 0.1\"))\n",
    "        print(\"Vous souhaitez placer {:.2f} € sur {} ans à un taux de {:.2f}\".format(placement,temps,taux_intérêt))\n",
    "\n",
    "    except ValueError:\n",
    "        raise ValueError(\"Veuillez rensigner des nombres\")\n",
    "    else:\n",
    "        if placement < 0 or temps < 0 or taux_intérêt < 0:\n",
    "            raise ValueError (\"Veuillez entrer des valeurs supérieures à 0\")\n",
    "        if taux_intérêt > 1:\n",
    "            raise ValueError(\"Plus de 100% d'intérêt  c'est compliqué, veuillez entrer un taux entre 0 et 1\")\n",
    "\n",
    "\n",
    "    #Calcul des intérêts\n",
    "    intérêts = placement*(1+taux_intérêt)**temps\n",
    "    print(\"Sur {} ans, votre placement de {} € à un taux d'intérêt de {} vous rapportera {:.2f} €\".format(temps,placement,taux_intérêt,intérêts))\n",
    "\n",
    "    Columbus()"
   ]
  }
 ],
 "metadata": {
  "kernelspec": {
   "display_name": "base",
   "language": "python",
   "name": "python3"
  },
  "language_info": {
   "name": "python",
   "version": "3.12.4"
  }
 },
 "nbformat": 4,
 "nbformat_minor": 2
}
